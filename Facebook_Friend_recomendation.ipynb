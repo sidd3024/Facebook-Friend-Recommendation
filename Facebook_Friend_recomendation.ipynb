{
  "nbformat": 4,
  "nbformat_minor": 0,
  "metadata": {
    "colab": {
      "name": "Facebook Friend recomendation.ipynb",
      "provenance": [],
      "collapsed_sections": []
    },
    "kernelspec": {
      "display_name": "Python 3",
      "name": "python3"
    },
    "language_info": {
      "name": "python"
    }
  },
  "cells": [
    {
      "cell_type": "code",
      "metadata": {
        "id": "tIHfqXDAd2RS"
      },
      "source": [
        "import pandas as pd\n",
        "import numpy as np\n",
        "import matplotlib.pyplot as plt\n",
        "import seaborn as sns\n",
        "import networkx as nx"
      ],
      "execution_count": 1,
      "outputs": []
    },
    {
      "cell_type": "markdown",
      "metadata": {
        "id": "zxP7xwkleQdJ"
      },
      "source": [
        "#Loading the dataset-"
      ]
    },
    {
      "cell_type": "code",
      "metadata": {
        "id": "P-bcAcgjeR_s"
      },
      "source": [
        "df=pd.read_csv('/content/drive/MyDrive/Copy of train_woheader.csv',header=None)"
      ],
      "execution_count": 2,
      "outputs": []
    },
    {
      "cell_type": "code",
      "metadata": {
        "colab": {
          "base_uri": "https://localhost:8080/",
          "height": 204
        },
        "id": "_4IQ9ATyfJn8",
        "outputId": "279c8af3-bbb6-4dd1-f860-a46df0c74e38"
      },
      "source": [
        "df.head()"
      ],
      "execution_count": 3,
      "outputs": [
        {
          "output_type": "execute_result",
          "data": {
            "text/html": [
              "<div>\n",
              "<style scoped>\n",
              "    .dataframe tbody tr th:only-of-type {\n",
              "        vertical-align: middle;\n",
              "    }\n",
              "\n",
              "    .dataframe tbody tr th {\n",
              "        vertical-align: top;\n",
              "    }\n",
              "\n",
              "    .dataframe thead th {\n",
              "        text-align: right;\n",
              "    }\n",
              "</style>\n",
              "<table border=\"1\" class=\"dataframe\">\n",
              "  <thead>\n",
              "    <tr style=\"text-align: right;\">\n",
              "      <th></th>\n",
              "      <th>0</th>\n",
              "      <th>1</th>\n",
              "    </tr>\n",
              "  </thead>\n",
              "  <tbody>\n",
              "    <tr>\n",
              "      <th>0</th>\n",
              "      <td>1</td>\n",
              "      <td>690569</td>\n",
              "    </tr>\n",
              "    <tr>\n",
              "      <th>1</th>\n",
              "      <td>1</td>\n",
              "      <td>315892</td>\n",
              "    </tr>\n",
              "    <tr>\n",
              "      <th>2</th>\n",
              "      <td>1</td>\n",
              "      <td>189226</td>\n",
              "    </tr>\n",
              "    <tr>\n",
              "      <th>3</th>\n",
              "      <td>2</td>\n",
              "      <td>834328</td>\n",
              "    </tr>\n",
              "    <tr>\n",
              "      <th>4</th>\n",
              "      <td>2</td>\n",
              "      <td>1615927</td>\n",
              "    </tr>\n",
              "  </tbody>\n",
              "</table>\n",
              "</div>"
            ],
            "text/plain": [
              "   0        1\n",
              "0  1   690569\n",
              "1  1   315892\n",
              "2  1   189226\n",
              "3  2   834328\n",
              "4  2  1615927"
            ]
          },
          "metadata": {},
          "execution_count": 3
        }
      ]
    },
    {
      "cell_type": "markdown",
      "metadata": {
        "id": "cYr2oZtVgrEx"
      },
      "source": [
        "##Creating a Directed graph on the dataset"
      ]
    },
    {
      "cell_type": "code",
      "metadata": {
        "colab": {
          "base_uri": "https://localhost:8080/"
        },
        "id": "5sZ7W1GIgun6",
        "outputId": "ec3f12b0-be34-400c-a0bb-92b85f4b4118"
      },
      "source": [
        "Directed_Graph=nx.read_edgelist('/content/drive/MyDrive/Copy of train_woheader.csv',delimiter=',',create_using=nx.DiGraph(),nodetype=int)\n",
        "print(nx.info(Directed_Graph))"
      ],
      "execution_count": 4,
      "outputs": [
        {
          "output_type": "stream",
          "name": "stdout",
          "text": [
            "DiGraph with 1862220 nodes and 9437519 edges\n"
          ]
        }
      ]
    },
    {
      "cell_type": "markdown",
      "metadata": {
        "id": "efkHzd9qoZFJ"
      },
      "source": [
        "##Creating graph visualization for top 50 edge list-"
      ]
    },
    {
      "cell_type": "code",
      "metadata": {
        "colab": {
          "base_uri": "https://localhost:8080/",
          "height": 336
        },
        "id": "ncSr9JugmS07",
        "outputId": "4ff31fd4-3d4a-48c8-c408-fb1aff4b5ce1"
      },
      "source": [
        "SG=Directed_Graph.edge_subgraph(df.iloc[:50,:].apply(lambda x:(x[0],x[1]),axis=1).tolist())\n",
        "pos=nx.spring_layout(SG)\n",
        "nx.draw(SG,pos,node_color='#A0CBE2',edge_color='#00bb5e',width=1,edge_cmap=plt.cm.Blues,with_labels=True)\n",
        "plt.savefig(\"graph_sample.pdf\")\n",
        "print(nx.info(SG))"
      ],
      "execution_count": null,
      "outputs": [
        {
          "output_type": "stream",
          "name": "stdout",
          "text": [
            "DiGraph with 66 nodes and 50 edges\n"
          ]
        },
        {
          "output_type": "display_data",
          "data": {
            "image/png": "[encoded data removed]",
            "text/plain": [
              "<Figure size 432x288 with 1 Axes>"
            ]
          },
          "metadata": {}
        }
      ]
    },
    {
      "cell_type": "markdown",
      "metadata": {
        "id": "qdtQWqhZrHL_"
      },
      "source": [
        "#Basic EDA -"
      ]
    },
    {
      "cell_type": "markdown",
      "metadata": {
        "id": "0Y47I5nTrM1o"
      },
      "source": [
        "##Analysis on the no of followers of each user ie node-"
      ]
    },
    {
      "cell_type": "code",
      "metadata": {
        "colab": {
          "base_uri": "https://localhost:8080/",
          "height": 295
        },
        "id": "Dawd2pOzrtV2",
        "outputId": "d546b4bf-992a-491b-ef86-39df8d8017d6"
      },
      "source": [
        "followers=list(dict(Directed_Graph.in_degree()).values())\n",
        "followers=sorted(followers)\n",
        "plt.plot(followers)\n",
        "plt.xlabel(\"Users/Nodes indicies\")\n",
        "plt.ylabel(\"No of followers\")\n",
        "plt.title(\"No of followers distribution\")\n",
        "plt.show()"
      ],
      "execution_count": null,
      "outputs": [
        {
          "output_type": "display_data",
          "data": {
            "image/png": "[encoded data removed]",
            "text/plain": [
              "<Figure size 432x288 with 1 Axes>"
            ]
          },
          "metadata": {
            "needs_background": "light"
          }
        }
      ]
    },
    {
      "cell_type": "markdown",
      "metadata": {
        "id": "X6Wj7oRBWBYH"
      },
      "source": [
        "##Conclusion-\n",
        "\n",
        "As we can see from the graph that for a large no of uses/nodes the followers are very less and for small no of users followers are above 100 and also for very small no of users the followers are above 400 or 500"
      ]
    },
    {
      "cell_type": "markdown",
      "metadata": {
        "id": "YI1Y3e9xWrfO"
      },
      "source": [
        "##Looking at the percentile values in order to quantify the data- "
      ]
    },
    {
      "cell_type": "code",
      "metadata": {
        "colab": {
          "base_uri": "https://localhost:8080/"
        },
        "id": "ZyWjVEIvWv6N",
        "outputId": "287e73ac-c59e-481b-affc-6005a931b345"
      },
      "source": [
        "np.array(followers)\n",
        "a=np.linspace(10,100,num=10)\n",
        "percentile=np.percentile(followers,a)\n",
        "\n",
        "for i,j in zip(percentile.tolist(),a.tolist()):\n",
        "  print(\"{}th percentile of total followers is {}\".format(int(j),i))\n"
      ],
      "execution_count": null,
      "outputs": [
        {
          "name": "stdout",
          "output_type": "stream",
          "text": [
            "10th percentile of total followers is 0.0\n",
            "20th percentile of total followers is 1.0\n",
            "30th percentile of total followers is 1.0\n",
            "40th percentile of total followers is 2.0\n",
            "50th percentile of total followers is 2.0\n",
            "60th percentile of total followers is 3.0\n",
            "70th percentile of total followers is 5.0\n",
            "80th percentile of total followers is 7.0\n",
            "90th percentile of total followers is 12.0\n",
            "100th percentile of total followers is 552.0\n"
          ]
        }
      ]
    },
    {
      "cell_type": "markdown",
      "metadata": {
        "id": "EcborQohZck5"
      },
      "source": [
        "##Conclusion-\n",
        "\n",
        "90% of users/nodes have 12 or less than 12 followers and no user/node have follower more than 552\n",
        "\n",
        "max no of followers=552\n",
        "min_no of followers=0"
      ]
    },
    {
      "cell_type": "markdown",
      "metadata": {
        "id": "hWXuFkacaAyg"
      },
      "source": [
        "##Analysis on no of users following another users-"
      ]
    },
    {
      "cell_type": "code",
      "metadata": {
        "colab": {
          "base_uri": "https://localhost:8080/",
          "height": 295
        },
        "id": "RcvfImEVaKfX",
        "outputId": "8797fe2f-7b7b-4235-a95e-e6af93bc00fb"
      },
      "source": [
        "following=list(dict(Directed_Graph.out_degree()).values())\n",
        "#sns.kdeplot(following)\n",
        "following=sorted(following)\n",
        "plt.plot(following)\n",
        "plt.xlabel(\"Users/Nodes indicies\")\n",
        "plt.ylabel(\"No of followings\")\n",
        "plt.title(\"No of following distribution\")\n",
        "plt.show()"
      ],
      "execution_count": null,
      "outputs": [
        {
          "output_type": "display_data",
          "data": {
            "image/png": "[encoded data removed]",
            "text/plain": [
              "<Figure size 432x288 with 1 Axes>"
            ]
          },
          "metadata": {
            "needs_background": "light"
          }
        }
      ]
    },
    {
      "cell_type": "markdown",
      "metadata": {
        "id": "DJiWO3IobP5H"
      },
      "source": [
        "##Conclusion-\n",
        "\n",
        "As we can see that max no of followings is 1600 approx by a particular user /node and many users are following very less no of users"
      ]
    },
    {
      "cell_type": "markdown",
      "metadata": {
        "id": "0gTnm3rVbuDn"
      },
      "source": [
        "##Looking at the percentile values in order to quantify the data- "
      ]
    },
    {
      "cell_type": "code",
      "metadata": {
        "colab": {
          "base_uri": "https://localhost:8080/"
        },
        "id": "U7I0rwcZbupW",
        "outputId": "3a399ec6-52e0-483d-af6f-64a6463b906e"
      },
      "source": [
        "np.array(following)\n",
        "a=np.linspace(10,100,num=10)\n",
        "percentile=np.percentile(following,a)\n",
        "\n",
        "for i,j in zip(percentile.tolist(),a.tolist()):\n",
        "  print(\"{}th percentile of total followers is {}\".format(int(j),i))\n"
      ],
      "execution_count": null,
      "outputs": [
        {
          "name": "stdout",
          "output_type": "stream",
          "text": [
            "10th percentile of total followers is 0.0\n",
            "20th percentile of total followers is 1.0\n",
            "30th percentile of total followers is 1.0\n",
            "40th percentile of total followers is 1.0\n",
            "50th percentile of total followers is 2.0\n",
            "60th percentile of total followers is 3.0\n",
            "70th percentile of total followers is 5.0\n",
            "80th percentile of total followers is 7.0\n",
            "90th percentile of total followers is 12.0\n",
            "100th percentile of total followers is 1566.0\n"
          ]
        }
      ]
    },
    {
      "cell_type": "markdown",
      "metadata": {
        "id": "_1NHhUK5e9ME"
      },
      "source": [
        "##Conclusion-\n",
        "\n",
        "max no of following done by a user is 1566 and minimum no of followings is 0\n",
        "and also this shows that there are very few people following one another "
      ]
    },
    {
      "cell_type": "markdown",
      "metadata": {
        "id": "3TRYfZOifQWE"
      },
      "source": [
        "##No of followers +no of followings"
      ]
    },
    {
      "cell_type": "code",
      "metadata": {
        "colab": {
          "base_uri": "https://localhost:8080/",
          "height": 295
        },
        "id": "cNjS3f03fTVU",
        "outputId": "aa0bf7de-1dbc-47ab-f2e7-3e02d9d1033c"
      },
      "source": [
        "total_followers_following=list(dict(Directed_Graph.degree()).values())\n",
        "sns.kdeplot(total_followers_following)\n",
        "plt.xlabel(\"Users/Nodes indicies\")\n",
        "plt.ylabel(\"No of followings+followers\")\n",
        "plt.title(\"Total_followers-following distribution\")\n",
        "plt.show()"
      ],
      "execution_count": null,
      "outputs": [
        {
          "data": {
            "image/png": "[encoded data removed]",
            "text/plain": [
              "<Figure size 432x288 with 1 Axes>"
            ]
          },
          "metadata": {},
          "output_type": "display_data"
        }
      ]
    },
    {
      "cell_type": "markdown",
      "metadata": {
        "id": "ljNW5vPsgiQl"
      },
      "source": [
        "##Conclusion-\n",
        "\n",
        "we can see that total no of followers and following of very few users are igh but most of them neither have followers or not following any other user/node"
      ]
    },
    {
      "cell_type": "markdown",
      "metadata": {
        "id": "Ar1hZjt1hBEj"
      },
      "source": [
        "##Looking at the percentile values in order to quantify the data- "
      ]
    },
    {
      "cell_type": "code",
      "metadata": {
        "colab": {
          "base_uri": "https://localhost:8080/"
        },
        "id": "XytI6aCYhAR3",
        "outputId": "5b2fe411-e37a-42ae-b14c-ae6779663a89"
      },
      "source": [
        "np.array(total_followers_following)\n",
        "a=np.linspace(10,100,num=10)\n",
        "percentile=np.percentile(total_followers_following,a)\n",
        "\n",
        "for i,j in zip(percentile.tolist(),a.tolist()):\n",
        "  print(\"{}th percentile of total followers is {}\".format(int(j),i))\n"
      ],
      "execution_count": null,
      "outputs": [
        {
          "name": "stdout",
          "output_type": "stream",
          "text": [
            "10th percentile of total followers is 1.0\n",
            "20th percentile of total followers is 2.0\n",
            "30th percentile of total followers is 2.0\n",
            "40th percentile of total followers is 3.0\n",
            "50th percentile of total followers is 4.0\n",
            "60th percentile of total followers is 6.0\n",
            "70th percentile of total followers is 9.0\n",
            "80th percentile of total followers is 14.0\n",
            "90th percentile of total followers is 24.0\n",
            "100th percentile of total followers is 1579.0\n"
          ]
        }
      ]
    },
    {
      "cell_type": "markdown",
      "metadata": {
        "id": "yLtduXHEhLgQ"
      },
      "source": [
        "##Conclusion-\n",
        "\n",
        "Max no of followers + followings that a user has is 1579 and very large no of users have very less total followers and followings value"
      ]
    },
    {
      "cell_type": "markdown",
      "metadata": {
        "id": "H_FmOm7Tl1qW"
      },
      "source": [
        "#Posing this as supervised learning classification problem-"
      ]
    },
    {
      "cell_type": "markdown",
      "metadata": {
        "id": "5eXdx9HIl8HS"
      },
      "source": [
        "## we would be posing it as a binary classification problem with class label 1 for the source and destination nodes which have a direct edge between them.\n",
        "##In order to create clss label 0 points what we are going to do is out of the total no of possible edges we are going to create a subset of data for which direct edge is not present in the main train data and the shortest length from one node to another node is greater than 2\n"
      ]
    },
    {
      "cell_type": "code",
      "metadata": {
        "id": "w1pZb8-emxi0"
      },
      "source": [
        "import random\n",
        "class_0_datapoints=[]\n",
        "a=9437519\n",
        "while(a!=0):\n",
        "  src_node=random.randint(1,1862220)\n",
        "  dest_node=random.randint(1,1862220)\n",
        "  if((src_node,dest_node) not in Directed_Graph.edges() and src_node!=dest_node):\n",
        "    if nx.has_path(Directed_Graph,src_node,dest_node):\n",
        "\n",
        "      if(nx.shortest_path_length(Directed_Graph, source=src_node, target=dest_node, weight=None, method='dijkstra')>2):\n",
        "        class_0_datapoints.append((src_node,dest_node))\n",
        "        a=a-1\n",
        "        print(a)\n",
        "      else:\n",
        "        pass\n",
        "    else:\n",
        "      pass\n"
      ],
      "execution_count": null,
      "outputs": []
    },
    {
      "cell_type": "code",
      "metadata": {
        "id": "cqLrd4YMl6ue"
      },
      "source": [
        "from sklearn.model_selection import train_test_split\n",
        "if (not os.path.isfile('data/after_eda/train_pos_after_eda.csv')) and (not os.path.isfile('data/after_eda/test_pos_after_eda.csv')):\n",
        "    #reading total data df\n",
        "    df_pos = pd.read_csv('data/train.csv')\n",
        "    df_neg = pd.DataFrame(list(class_0_datapoints), columns=['source_node', 'destination_node'])\n",
        "    \n",
        "    print(\"Number of nodes in the graph with edges\", df_pos.shape[0])\n",
        "    print(\"Number of nodes in the graph without edges\", df_neg.shape[0])\n",
        "    \n",
        "    #Trian test split \n",
        "    #Spiltted data into 80-20 \n",
        "    #positive links and negative links seperatly because we need positive training data only for creating graph \n",
        "    #and for feature generation\n",
        "    X_train_pos, X_test_pos, y_train_pos, y_test_pos  = train_test_split(df_pos,np.ones(len(df_pos)),test_size=0.2, random_state=9)\n",
        "    X_train_neg, X_test_neg, y_train_neg, y_test_neg  = train_test_split(df_neg,np.zeros(len(df_neg)),test_size=0.2, random_state=9)\n",
        "    \n",
        "    #removing header and saving\n",
        "    X_train_pos.to_csv('data/after_eda/train_pos_after_eda.csv',header=False, index=False)\n",
        "    X_test_pos.to_csv('data/after_eda/test_pos_after_eda.csv',header=False, index=False)\n",
        "    X_train_neg.to_csv('data/after_eda/train_neg_after_eda.csv',header=False, index=False)\n",
        "    X_test_neg.to_csv('data/after_eda/test_neg_after_eda.csv',header=False, index=False)\n",
        "else:\n",
        "    #Graph from Traing data only \n",
        "    del missing_edges"
      ],
      "execution_count": null,
      "outputs": []
    },
    {
      "cell_type": "code",
      "metadata": {
        "id": "bNsDpZQyg6Zw"
      },
      "source": [
        "train_pos_graph=nx.read_edgelist('/content/drive/MyDrive/Copy of train_pos_after_eda.csv',delimiter=',',create_using=nx.DiGraph(),nodetype=int)\n",
        "test_pos_graph=nx.read_edgelist('/content/drive/MyDrive/Copy of test_pos_after_eda.csv',delimiter=',',create_using=nx.DiGraph(),nodetype=int)"
      ],
      "execution_count": 4,
      "outputs": []
    },
    {
      "cell_type": "code",
      "metadata": {
        "id": "kvPYq_RQZATJ",
        "colab": {
          "base_uri": "https://localhost:8080/"
        },
        "outputId": "63160fbb-fc2d-453e-96d9-97209ae579b6"
      },
      "source": [
        "#Looking at the similarity percentage between train and test dataset-\n",
        "train_pos_nodes=set(train_pos_graph.nodes())\n",
        "test_pos_nodes=set(test_pos_graph.nodes())\n",
        "cmn_data_points_percentage=len(train_pos_nodes.intersection(test_pos_nodes))/(len(test_pos_nodes))\n",
        "data_test_not_train_percentage=len(test_pos_nodes-train_pos_nodes)/(len(test_pos_nodes))\n",
        "print(\"common % of data in train and test are:\",cmn_data_points_percentage*100)\n",
        "print(\"% of data present in test but not in train are:\",data_test_not_train_percentage*100)"
      ],
      "execution_count": 8,
      "outputs": [
        {
          "output_type": "stream",
          "name": "stdout",
          "text": [
            "common % of data in train and test are: 92.87992640371546\n",
            "% of data present in test but not in train are: 7.1200735962845405\n"
          ]
        }
      ]
    },
    {
      "cell_type": "code",
      "metadata": {
        "id": "ByJ9QpJlYODr"
      },
      "source": [
        "#stored the pos and neg data for both train and test in  the below csv file and loading it as training and test dataset-\n",
        "X_Train=pd.read_csv('/content/drive/MyDrive/Copy of train_after_eda.csv')\n",
        "X_Test=pd.read_csv('/content/drive/MyDrive/Copy of test_after_eda.csv')"
      ],
      "execution_count": null,
      "outputs": []
    },
    {
      "cell_type": "markdown",
      "metadata": {
        "id": "HzyVkNoIYFFE"
      },
      "source": [
        "#Feature engineering for the dataset-"
      ]
    },
    {
      "cell_type": "markdown",
      "metadata": {
        "id": "YXaJfHHNYQq6"
      },
      "source": [
        "## 2.1 Jaccard Distance:\n",
        "http://www.statisticshowto.com/jaccard-index/\n",
        "\n",
        "\n",
        "\\begin{equation}\n",
        "j = \\frac{|X\\cap Y|}{|X \\cup Y|} \n",
        "\\end{equation}\n",
        "\n",
        "\n",
        "\n",
        "\n",
        "## Approach-\n",
        "\n",
        "We will be calculating the jaccard distance between each pair of verticies and higher the overlap between neighbours of each verticies\n",
        "more will be the jaccard distance , hence more chances of being a similar node\n",
        "\n",
        "## Note- We will be doing it for both followers(out degree node) and followees(in degree node)-"
      ]
    },
    {
      "cell_type": "code",
      "metadata": {
        "id": "gP3PX0uCY7Hz"
      },
      "source": [
        "#Jaccard distance function for followers-\n",
        "def jaccard_distance_followers(u,v,Directed_Graph):\n",
        "  try:\n",
        "    if (Directed_Graph.successors(u)|Directed_Graph.successors(v)!=0):\n",
        "      X=set(Directed_Graph.successors(u))\n",
        "      Y=set(Directed_Graph.successors(v))\n",
        "      jd=len(X.intersection(Y))/(len(X.union(Y)))\n",
        "  except:\n",
        "     jd=0\n",
        "  return jd\n",
        "\n",
        "\n"
      ],
      "execution_count": 22,
      "outputs": []
    },
    {
      "cell_type": "code",
      "metadata": {
        "id": "GNGn5i73a1jO"
      },
      "source": [
        "#Testing a query point(which is not present in di graph)-\n",
        "dist=jaccard_distance_followers(1,200000000000,Directed_Graph)"
      ],
      "execution_count": 23,
      "outputs": []
    },
    {
      "cell_type": "code",
      "metadata": {
        "colab": {
          "base_uri": "https://localhost:8080/"
        },
        "id": "lTA8airAbXS_",
        "outputId": "662f1141-5aac-4963-a933-7eca2471885e"
      },
      "source": [
        "print(dist)"
      ],
      "execution_count": 24,
      "outputs": [
        {
          "output_type": "stream",
          "name": "stdout",
          "text": [
            "0\n"
          ]
        }
      ]
    },
    {
      "cell_type": "code",
      "metadata": {
        "id": "r6lJcmB8c5x9"
      },
      "source": [
        "#Jaccard distance function for followees-\n",
        "def jaccard_distance_followees(u,v,Directed_Graph):\n",
        "  try:\n",
        "    if (Directed_Graph.predecessors(u)|Directed_Graph.predecessors(v)!=0):\n",
        "      X=set(Directed_Graph.predecessors(u))\n",
        "      Y=set(Directed_Graph.predecessors(v))\n",
        "      jd=len(X.intersection(Y))/(len(X.union(Y)))\n",
        "  except:\n",
        "     jd=0\n",
        "  return jd"
      ],
      "execution_count": 25,
      "outputs": []
    },
    {
      "cell_type": "code",
      "metadata": {
        "id": "XkUQciHDdSuf"
      },
      "source": [
        "#Testing a query point that is present in the Di graph-\n",
        "\n",
        "dist=jaccard_distance_followees(1,690569,Directed_Graph)"
      ],
      "execution_count": 26,
      "outputs": []
    },
    {
      "cell_type": "code",
      "metadata": {
        "colab": {
          "base_uri": "https://localhost:8080/"
        },
        "id": "h-Cc4ivMddOr",
        "outputId": "097d2e42-c68b-4d6b-8e39-3be8bfd65437"
      },
      "source": [
        "print(dist)"
      ],
      "execution_count": 27,
      "outputs": [
        {
          "output_type": "stream",
          "name": "stdout",
          "text": [
            "0\n"
          ]
        }
      ]
    },
    {
      "cell_type": "markdown",
      "metadata": {
        "id": "UMN3W4iDdpiH"
      },
      "source": [
        "## 2.2 Cosine distance\n",
        "\n",
        "\n",
        "\\begin{equation}\n",
        "CosineDistance = \\frac{|X\\cap Y|}{|X|\\cdot|Y|} \n",
        "\\end{equation}\n",
        "\n",
        "\n",
        "## Approach-\n",
        "\n",
        "We will be calculating the cosine distance between each pair of verticies and higher the overlap between neighbours of each verticies\n",
        "more will be the cosine distance , hence more chances of being a similar node\n",
        "\n",
        "## Note- We will be doing it for both followers(out degree node) and followees(in degree node)-"
      ]
    },
    {
      "cell_type": "code",
      "metadata": {
        "id": "9jTzvjXjd5av"
      },
      "source": [
        "#Cosine distance for followers-\n",
        "def cosine_distance_followers(u,v,Directed_Graph):\n",
        "  try:\n",
        "    if (Directed_Graph.successors(u)|Directed_Graph.successors(v)!=0):\n",
        "      X=set(Directed_Graph.successors(u))\n",
        "      Y=set(Directed_Graph.successors(v))\n",
        "      cd=len(X.intersection(Y))/(len(X)+len(Y))\n",
        "  except:\n",
        "     cd=0\n",
        "  return cd\n"
      ],
      "execution_count": 29,
      "outputs": []
    },
    {
      "cell_type": "code",
      "metadata": {
        "id": "8oEyefLCeh_T"
      },
      "source": [
        "#Cosine distance for followees-\n",
        "def cosine_distance_followees(u,v,Directed_Graph):\n",
        "  try:\n",
        "    if (Directed_Graph.predecessors(u)|Directed_Graph.predecessors(v)!=0):\n",
        "      X=set(Directed_Graph.predecessors(u))\n",
        "      Y=set(Directed_Graph.predecessors(v))\n",
        "      cd=len(X.intersection(Y))/(len(X)+len(Y))\n",
        "  except:\n",
        "     cd=0\n",
        "  return cd\n"
      ],
      "execution_count": 30,
      "outputs": []
    },
    {
      "cell_type": "markdown",
      "metadata": {
        "id": "USX-7GuggOLs"
      },
      "source": [
        "#3) Page Ranking\n",
        "\n",
        "Approach-\n",
        "\n",
        "Page rank will calculate the rank/importance in term of probabilities for each verticies. For every pair of source and target nodes we will be caclulating page rank of source node as well as destination node, Hence page rank for the dataset will be an array of n (number of rows in training dataset) * m( 2 , one for source and other for target)"
      ]
    },
    {
      "cell_type": "code",
      "metadata": {
        "id": "DaCNj0lEhIIc"
      },
      "source": [
        "#Calculating page rank-\n",
        "\n",
        "def page_rank(u,v,Directed_Graph):\n",
        "  pr=[]\n",
        "  #For source node-\n",
        "  S=nx.DiGraph(Directed_Graph.path_graph(u))\n",
        "  source=nx.pagerank(S,alpha=0.85)\n",
        "  pr.append(source)\n",
        "  #For Target node-\n",
        "  T=nx.DiGraph(Directed_Graph.path_graph(v))\n",
        "  target=nx.pagerank(T,alpha=0.85)\n",
        "  pr.append(target)\n",
        "  return pr,\n",
        "\n"
      ],
      "execution_count": 31,
      "outputs": []
    },
    {
      "cell_type": "markdown",
      "metadata": {
        "id": "SqD4Va-uj_zv"
      },
      "source": [
        "# 4. Other Graph Features"
      ]
    },
    {
      "cell_type": "markdown",
      "metadata": {
        "id": "u6i_nubCkC7-"
      },
      "source": [
        "## 4.1 Shortest path:\n",
        "\n",
        "Getting Shortest path between twoo nodes, if nodes have direct path i.e directly connected then we are removing that edge and calculating path. "
      ]
    },
    {
      "cell_type": "code",
      "metadata": {
        "id": "4EZWoVxDgVM1"
      },
      "source": [
        "#Function for calculating shortest path length-\n",
        "\n",
        "def shortest_path(u,v,Directed_Graph):\n",
        "\n",
        "  try:\n",
        "    if nx.has_path(Directed_Graph,src_node,dest_node):\n",
        "      Directed_Graph.remove_edge(u, v)\n",
        "      spl=nx.shortest_path_length(Directed_Graph,u,v)\n",
        "      Directed_Graph.add_edge(u,v)\n",
        "    else:\n",
        "      return -1\n",
        "    return spl\n",
        "\n",
        "    \n",
        "\n",
        "    \n",
        "  except:\n",
        "    return -1\n",
        "  \n",
        "\n",
        "\n"
      ],
      "execution_count": 15,
      "outputs": []
    },
    {
      "cell_type": "code",
      "metadata": {
        "colab": {
          "base_uri": "https://localhost:8080/"
        },
        "id": "hBTA_SoPnk0r",
        "outputId": "18cb8346-4555-4899-8df1-1c80a1e50592"
      },
      "source": [
        "#testing\n",
        "shortest_path(77697, 826021,Directed_Graph)"
      ],
      "execution_count": 37,
      "outputs": [
        {
          "output_type": "execute_result",
          "data": {
            "text/plain": [
              "-1"
            ]
          },
          "metadata": {},
          "execution_count": 37
        }
      ]
    },
    {
      "cell_type": "markdown",
      "metadata": {
        "id": "4GrUgsMa4BjT"
      },
      "source": [
        "## 4.2 Checking for same community"
      ]
    },
    {
      "cell_type": "code",
      "metadata": {
        "id": "5Sq7UASu4E2A"
      },
      "source": [
        "#Function to calculate weekly connected components which will determine wether the given pair of nodes belong to same community or not-\n",
        "\n",
        "wkly_cn_comp=nx.weakly_connected_components(Directed_Graph)\n",
        "def common_community(u,v,wkly_cn_comp,Directed_Graph):\n",
        "  \n",
        "  if Directed_Graph.has_edge(u,v):\n",
        "    if Directed_Graph.has_edge(v,u):\n",
        "      for i in wkly_cn_comp:\n",
        "        if u in i:\n",
        "          if v in i:\n",
        "            Directed_Graph.remove_edge(v,u)\n",
        "            if(shortest_path==-1):\n",
        "              Directed_Graph.add_edge(v,u)\n",
        "              return 0\n",
        "            else:\n",
        "              Directed_Graph.add_edge(v,u)\n",
        "              return 1\n",
        "    if Directed_Graph.has_edge(u,v):\n",
        "      for i in wkly_cn_comp:\n",
        "        if u in i:\n",
        "          if v in i:\n",
        "            Directed_Graph.remove_edge(u,v)\n",
        "            if(shortest_path==-1):\n",
        "              Directed_Graph.add_edge(u,v)\n",
        "              return 0\n",
        "            else:\n",
        "              Directed_Graph.add_edge(u,v)\n",
        "              return 1\n",
        "  else:\n",
        "    for i in wkly_cn_comp:\n",
        "      if u in i:\n",
        "        if v in i:\n",
        "          return 1\n",
        "        else:\n",
        "          return 0\n",
        "      return 0\n",
        "  \n",
        "\n",
        "\n",
        "  "
      ],
      "execution_count": 24,
      "outputs": []
    },
    {
      "cell_type": "code",
      "metadata": {
        "colab": {
          "base_uri": "https://localhost:8080/"
        },
        "id": "lfPQnoBKI5mY",
        "outputId": "b39da14a-cfcf-4c81-e641-fc5a19e1c8ab"
      },
      "source": [
        "#Testing point-\n",
        "common_community(861, 1659750,wkly_cn_comp,Directed_Graph)"
      ],
      "execution_count": 25,
      "outputs": [
        {
          "output_type": "execute_result",
          "data": {
            "text/plain": [
              "0"
            ]
          },
          "metadata": {},
          "execution_count": 25
        }
      ]
    },
    {
      "cell_type": "code",
      "metadata": {
        "colab": {
          "base_uri": "https://localhost:8080/"
        },
        "id": "RMASRZSFLgk2",
        "outputId": "35878bb4-ec61-402a-8955-65c83e4820e3"
      },
      "source": [
        "#Testing point-\n",
        "common_community(669354,1635354,wkly_cn_comp,Directed_Graph)"
      ],
      "execution_count": 27,
      "outputs": [
        {
          "output_type": "execute_result",
          "data": {
            "text/plain": [
              "0"
            ]
          },
          "metadata": {},
          "execution_count": 27
        }
      ]
    },
    {
      "cell_type": "markdown",
      "metadata": {
        "id": "8K4PRk4WlIZ2"
      },
      "source": [
        "## 4.3 Adamic/Adar Index:\n",
        "Adamic/Adar measures is defined as inverted sum of degrees of common neighbours for given two vertices.\n",
        "$$A(x,y)=\\sum_{u \\in N(x) \\cap N(y)}\\frac{1}{log(|N(u)|)}$$"
      ]
    },
    {
      "cell_type": "code",
      "metadata": {
        "id": "PKc8T7CFlJJx"
      },
      "source": [
        "#Calculating Adar index for pair of verticies-\n",
        "import math as m\n",
        "def Adar_index(u,v,Directed_Graph):\n",
        "  if((Directed_Graph.has_node(u)) and (Directed_Graph.has_node(v))):\n",
        "    Adar_index=0\n",
        "    Neighbour_u=list(Directed_Graph.successors(u))+list(Directed_Graph.predecessors(u))\n",
        "    Neighbour_v=list(Directed_Graph.successors(v))+list(Directed_Graph.predecessors(v))\n",
        "    cmn_neighbours=list(set(Neighbour_u).intersection(set(Neighbour_v)))\n",
        "    for i in cmn_neighbours:\n",
        "      neigh_cmn_neighbours=list(Directed_Graph.successors(i))+list(Directed_Graph.predecessors(i))\n",
        "      Adar_index=Adar_index+(1/m.log(len(neigh_cmn_neighbours)))\n",
        "  else:\n",
        "    Adar_index=0\n",
        "\n",
        "  return Adar_index"
      ],
      "execution_count": 34,
      "outputs": []
    },
    {
      "cell_type": "code",
      "metadata": {
        "colab": {
          "base_uri": "https://localhost:8080/"
        },
        "id": "5SivHtLznG4X",
        "outputId": "8850f702-5f83-439b-86ee-5ec66f755fd3"
      },
      "source": [
        "Adar_index(669354,1635354,Directed_Graph)"
      ],
      "execution_count": 36,
      "outputs": [
        {
          "output_type": "execute_result",
          "data": {
            "text/plain": [
              "0"
            ]
          },
          "metadata": {},
          "execution_count": 36
        }
      ]
    },
    {
      "cell_type": "markdown",
      "metadata": {
        "id": "h7zcYsQetv4l"
      },
      "source": [
        "## 4.4 Is person was following back:"
      ]
    },
    {
      "cell_type": "code",
      "metadata": {
        "id": "VyDKcBXkt056"
      },
      "source": [
        "def person_follow_back(u,v,Directed_Graph):\n",
        "  if Directed_Graph.has_edge(v,u):\n",
        "    return 1\n",
        "  else:\n",
        "    return 0"
      ],
      "execution_count": 41,
      "outputs": []
    },
    {
      "cell_type": "code",
      "metadata": {
        "colab": {
          "base_uri": "https://localhost:8080/"
        },
        "id": "Q5sk4cIbvCTb",
        "outputId": "aed265c3-b7c0-4a2a-bd99-e6ec242eceee"
      },
      "source": [
        "person_follow_back(1,189226,Directed_Graph)"
      ],
      "execution_count": 42,
      "outputs": [
        {
          "output_type": "execute_result",
          "data": {
            "text/plain": [
              "1"
            ]
          },
          "metadata": {},
          "execution_count": 42
        }
      ]
    },
    {
      "cell_type": "markdown",
      "metadata": {
        "id": "ojok1hTfvzWM"
      },
      "source": [
        "## 4.5 Katz Centrality:\n",
        "https://en.wikipedia.org/wiki/Katz_centrality\n",
        "\n",
        "https://www.geeksforgeeks.org/katz-centrality-centrality-measure/\n",
        " Katz centrality computes the centrality for a node \n",
        "    based on the centrality of its neighbors. It is a \n",
        "    generalization of the eigenvector centrality. The\n",
        "    Katz centrality for node `i` is\n",
        " \n",
        "$$x_i = \\alpha \\sum_{j} A_{ij} x_j + \\beta,$$\n",
        "where `A` is the adjacency matrix of the graph G \n",
        "with eigenvalues $$\\lambda$$.\n",
        "\n",
        "The parameter $$\\beta$$ controls the initial centrality and \n",
        "\n",
        "$$\\alpha < \\frac{1}{\\lambda_{max}}.$$"
      ]
    },
    {
      "cell_type": "code",
      "metadata": {
        "id": "szvZO73dvz8U"
      },
      "source": [
        "from networkx.algorithms.centrality import katz_centrality\n",
        "centrality=katz_centrality(Directed_Graph,alpha=0.005,beta=1)"
      ],
      "execution_count": 43,
      "outputs": []
    },
    {
      "cell_type": "code",
      "metadata": {
        "id": "z5q3yToY1bYU"
      },
      "source": [
        "#Loading the score into pickle file for later use-\n",
        "import pickle\n",
        "pickle.dump(centrality,open('/content/drive/MyDrive/katz_centrality','wb'))"
      ],
      "execution_count": 45,
      "outputs": []
    },
    {
      "cell_type": "markdown",
      "metadata": {
        "id": "KaG89FJJOn36"
      },
      "source": [
        "## 4.6 Hits Score\n",
        "The HITS algorithm computes two numbers for a node. Authorities estimates the node value based on the incoming links. Hubs estimates the node value based on outgoing links.\n",
        "\n",
        "https://en.wikipedia.org/wiki/HITS_algorithm"
      ]
    },
    {
      "cell_type": "code",
      "metadata": {
        "id": "eljrsn1aOod8"
      },
      "source": [
        "from networkx.algorithms.link_analysis.hits_alg import hits\n",
        "hits_score=hits(Directed_Graph,max_iter=100, tol=1e-08, nstart=None, normalized=True)\n",
        "pickle.dump(hits_score,open('/content/drive/MyDrive/hits_score','wb'))"
      ],
      "execution_count": 47,
      "outputs": []
    },
    {
      "cell_type": "markdown",
      "metadata": {
        "id": "cF4ECHhhS0no"
      },
      "source": [
        "##SVD decomposition-\n",
        "\n",
        "\n",
        "##As we are aware that SVD helps in creating new features by doing matrix decomposition/Factorization, so we would be performing decomposition on each vertix and try to bring out a n-d dimensional features out of it"
      ]
    },
    {
      "cell_type": "code",
      "metadata": {
        "id": "nekGL22sS3pk"
      },
      "source": [
        "#Creating adjancey matrix that will be used for decomposition-\n",
        "from networkx.linalg.graphmatrix import adjacency_matrix\n",
        "A=adjacency_matrix(Directed_Graph,sorted(Directed_Graph.nodes()))\n"
      ],
      "execution_count": 49,
      "outputs": []
    },
    {
      "cell_type": "code",
      "metadata": {
        "id": "zpS-iiFWjACB"
      },
      "source": [
        "from sklearn.utils.extmath import randomized_svd\n",
        "U, Sigma, VT=randomized_svd(A,n_components=6)"
      ],
      "execution_count": 56,
      "outputs": []
    },
    {
      "cell_type": "code",
      "metadata": {
        "colab": {
          "base_uri": "https://localhost:8080/"
        },
        "id": "697zcFxXC5lW",
        "outputId": "39160a40-3027-4b84-88f0-b591d455b42b"
      },
      "source": [
        "print(U.shape)\n",
        "print(Sigma.shape)\n",
        "print(VT.shape)"
      ],
      "execution_count": 58,
      "outputs": [
        {
          "output_type": "stream",
          "name": "stdout",
          "text": [
            "(1862220, 6)\n",
            "(6,)\n",
            "(6, 1862220)\n"
          ]
        }
      ]
    },
    {
      "cell_type": "code",
      "metadata": {
        "id": "wwPsyLlYHqxB"
      },
      "source": [
        "#Function for fetching the vectors of given nodes from both the decomposed matricies-\n",
        "def truncated_svd(v,u,U,VT):\n",
        "  U_1=U[u,:]\n",
        "  U_2=U[v,:]\n",
        "  V_1=VT[:,u]\n",
        "  V_2=VT[:,v]\n",
        "  return U_1,U_2,V_1,V_2\n",
        "\n",
        "\n",
        "\n",
        "\n"
      ],
      "execution_count": 65,
      "outputs": []
    },
    {
      "cell_type": "markdown",
      "metadata": {
        "id": "pGRaA9rHTF0j"
      },
      "source": [
        "#### Weight Features\n",
        "\n",
        "\n",
        "In order to determine the similarity of nodes, an edge weight value was calculated between nodes. Edge weight decreases as the neighbor count goes up. Intuitively, consider one million people following a celebrity on a social network then chances are most of them never met each other or the celebrity. On the other hand, if a user has 30 contacts in his/her social network, the chances are higher that many of them know each other. \n",
        "`credit` - Graph-based Features for Supervised Link Prediction\n",
        "William Cukierski, Benjamin Hamner, Bo Yang\n",
        "\n",
        "\n",
        "\\begin{equation}\n",
        "W = \\frac{1}{\\sqrt{1+|X|}}\n",
        "\\end{equation}"
      ]
    },
    {
      "cell_type": "code",
      "metadata": {
        "id": "GqjsdPYjTN23"
      },
      "source": [
        "def weight_features(u,v,Directed_Graph):\n",
        "  in_degree_weight_u=0\n",
        "  in_degree_weight_v=0\n",
        "  out_degree_weight_u=0\n",
        "  out_degree_weight_v=0\n",
        "  num_followees_u=len(set(Directed_Graph.predecessors(u)))\n",
        "  num_u_following=len(set(Directed_Graph.successors(u)))\n",
        "  num_followees_v=len(set(Directed_Graph.predecessors(v)))\n",
        "  num_v_following=len(set(Directed_Graph.successors(v)))\n",
        "  \n",
        "  in_degree_weight_u=1/np.sqrt(1+len(num_followees_u))\n",
        "  in_degree_weight_v=1/np.sqrt(1+len(num_followees_v))\n",
        "  out_degree_weight_u=1/np.sqrt(1+len(num_u_following))\n",
        "  out_degree_weight_v=1/np.sqrt(1+len(num_v_following))\n",
        "  return in_degree_weight_u,in_degree_weight_v,out_degree_weight_u,out_degree_weight_v\n",
        "\n",
        "\n",
        "\n",
        "\n"
      ],
      "execution_count": 66,
      "outputs": []
    },
    {
      "cell_type": "markdown",
      "metadata": {
        "id": "XeX31khFWeV9"
      },
      "source": [
        "##Total no of features would be-\n",
        "\n",
        "<ol>\n",
        "<li>jaccard_followers</li>\n",
        "<li>jaccard_followees</li>\n",
        "<li>cosine_followers</li>\n",
        "<li>cosine_followees</li>\n",
        "<li>num_followers_s</li>\n",
        "<li>num_followees_s</li>\n",
        "<li>num_followers_d</li>\n",
        "<li>num_followees_d</li>\n",
        "<li>inter_followers</li>\n",
        "<li>inter_followees</li>\n",
        "</ol>\n",
        "<li>Page Ranking of source</li>\n",
        "<li>Page Ranking of dest</li>\n",
        "<li>katz of source</li>\n",
        "<li>katz of dest</li>\n",
        "<li>hubs of source</li>\n",
        "<li>hubs of dest</li>\n",
        "<li>authorities_s of source</li>\n",
        "<li>authorities_s of dest</li>\n",
        "</ol>\n",
        "svd(24 vectors)\n",
        "li>Weight Features\n",
        "    <ul>\n",
        "        <li>weight of incoming edges</li>\n",
        "        <li>weight of outgoing edges</li>\n",
        "        <li>weight of incoming edges + weight of outgoing edges</li>\n",
        "        <li>weight of incoming edges * weight of outgoing edges</li>\n",
        "        <li>2*weight of incoming edges + weight of outgoing edges</li>\n",
        "        <li>weight of incoming edges + 2*weight of outgoing edges</li>\n",
        "    </ul>\n"
      ]
    },
    {
      "cell_type": "markdown",
      "metadata": {
        "id": "Xvit0PMfXj-E"
      },
      "source": [
        "##Combing all these features value by calling the respective function on train and test and creating the final train and test data for model building-\n",
        "\n",
        "\n",
        "\n",
        "Putting all the final data after combing in \"final_train' and \"final test' respectively-"
      ]
    },
    {
      "cell_type": "code",
      "metadata": {
        "id": "NRUBV11YXtKB"
      },
      "source": [
        "if not os.path.isfile('data/fea_sample/storage_sample_stage1.h5'):\n",
        "    df_final_train['num_followers_s'], df_final_train['num_followers_d'], \\\n",
        "    df_final_train['num_followees_s'], df_final_train['num_followees_d'], \\\n",
        "    df_final_train['inter_followers'], df_final_train['inter_followees']= compute_features_stage1(df_final_train)\n",
        "    \n",
        "    df_final_test['num_followers_s'], df_final_test['num_followers_d'], \\\n",
        "    df_final_test['num_followees_s'], df_final_test['num_followees_d'], \\\n",
        "    df_final_test['inter_followers'], df_final_test['inter_followees']= compute_features_stage1(df_final_test)\n",
        "    \n",
        "    hdf = HDFStore('storage_sample_stage1.h5')\n",
        "    hdf.put('train_df',df_final_train, format='table', data_columns=True)\n",
        "    hdf.put('test_df',df_final_test, format='table', data_columns=True)\n",
        "    hdf.close()\n",
        "else:\n",
        "    df_final_train = read_hdf('storage_sample_stage1.h5', 'train_df',mode='r')\n",
        "    df_final_test = read_hdf('storage_sample_stage1.h5', 'test_df',mode='r')\n",
        "\n",
        "\n",
        "\n",
        "\n",
        "if not os.path.isfile('storage_sample_stage2.h5'):\n",
        "    #mapping adar index on train\n",
        "    df_final_train['adar_index'] = df_final_train.apply(lambda row: calc_adar_in(row['source_node'],row['destination_node']),axis=1)\n",
        "    #mapping adar index on test\n",
        "    df_final_test['adar_index'] = df_final_test.apply(lambda row: calc_adar_in(row['source_node'],row['destination_node']),axis=1)\n",
        "\n",
        "    #--------------------------------------------------------------------------------------------------------\n",
        "    #mapping followback or not on train\n",
        "    df_final_train['follows_back'] = df_final_train.apply(lambda row: follows_back(row['source_node'],row['destination_node']),axis=1)\n",
        "\n",
        "    #mapping followback or not on test\n",
        "    df_final_test['follows_back'] = df_final_test.apply(lambda row: follows_back(row['source_node'],row['destination_node']),axis=1)\n",
        "\n",
        "    #--------------------------------------------------------------------------------------------------------\n",
        "    #mapping same component of wcc or not on train\n",
        "    df_final_train['same_comp'] = df_final_train.apply(lambda row: belongs_to_same_wcc(row['source_node'],row['destination_node']),axis=1)\n",
        "\n",
        "    ##mapping same component of wcc or not on train\n",
        "    df_final_test['same_comp'] = df_final_test.apply(lambda row: belongs_to_same_wcc(row['source_node'],row['destination_node']),axis=1)\n",
        "    \n",
        "    #--------------------------------------------------------------------------------------------------------\n",
        "    #mapping shortest path on train \n",
        "    df_final_train['shortest_path'] = df_final_train.apply(lambda row: compute_shortest_path_length(row['source_node'],row['destination_node']),axis=1)\n",
        "    #mapping shortest path on test\n",
        "    df_final_test['shortest_path'] = df_final_test.apply(lambda row: compute_shortest_path_length(row['source_node'],row['destination_node']),axis=1)\n",
        "\n",
        "    hdf = HDFStore('data/fea_sample/storage_sample_stage2.h5')\n",
        "    hdf.put('train_df',df_final_train, format='table', data_columns=True)\n",
        "    hdf.put('test_df',df_final_test, format='table', data_columns=True)\n",
        "    hdf.close()\n",
        "else:\n",
        "    df_final_train = read_hdf('storage_sample_stage2.h5', 'train_df',mode='r')\n",
        "    df_final_test = read_hdf('storage_sample_stage2.h5', 'test_df',mode='r')\n",
        "\n",
        "f not os.path.isfile('data/fea_sample/storage_sample_stage3.h5'):\n",
        "    #mapping to pandas train\n",
        "    df_final_train['weight_in'] = df_final_train.destination_node.apply(lambda x: Weight_in.get(x,mean_weight_in))\n",
        "    df_final_train['weight_out'] = df_final_train.source_node.apply(lambda x: Weight_out.get(x,mean_weight_out))\n",
        "\n",
        "    #mapping to pandas test\n",
        "    df_final_test['weight_in'] = df_final_test.destination_node.apply(lambda x: Weight_in.get(x,mean_weight_in))\n",
        "    df_final_test['weight_out'] = df_final_test.source_node.apply(lambda x: Weight_out.get(x,mean_weight_out))\n",
        "\n",
        "\n",
        "    #some features engineerings on the in and out weights\n",
        "    df_final_train['weight_f1'] = df_final_train.weight_in + df_final_train.weight_out\n",
        "    df_final_train['weight_f2'] = df_final_train.weight_in * df_final_train.weight_out\n",
        "    df_final_train['weight_f3'] = (2*df_final_train.weight_in + 1*df_final_train.weight_out)\n",
        "    df_final_train['weight_f4'] = (1*df_final_train.weight_in + 2*df_final_train.weight_out)\n",
        "\n",
        "    #some features engineerings on the in and out weights\n",
        "    df_final_test['weight_f1'] = df_final_test.weight_in + df_final_test.weight_out\n",
        "    df_final_test['weight_f2'] = df_final_test.weight_in * df_final_test.weight_out\n",
        "    df_final_test['weight_f3'] = (2*df_final_test.weight_in + 1*df_final_test.weight_out)\n",
        "    df_final_test['weight_f4'] = (1*df_final_test.weight_in + 2*df_final_test.weight_out)\n",
        "if not os.path.isfile('data/fea_sample/storage_sample_stage3.h5'):\n",
        "    \n",
        "    #page rank for source and destination in Train and Test\n",
        "    #if anything not there in train graph then adding mean page rank \n",
        "    df_final_train['page_rank_s'] = df_final_train.source_node.apply(lambda x:pr.get(x,mean_pr))\n",
        "    df_final_train['page_rank_d'] = df_final_train.destination_node.apply(lambda x:pr.get(x,mean_pr))\n",
        "\n",
        "    df_final_test['page_rank_s'] = df_final_test.source_node.apply(lambda x:pr.get(x,mean_pr))\n",
        "    df_final_test['page_rank_d'] = df_final_test.destination_node.apply(lambda x:pr.get(x,mean_pr))\n",
        "    #================================================================================\n",
        "\n",
        "    #Katz centrality score for source and destination in Train and test\n",
        "    #if anything not there in train graph then adding mean katz score\n",
        "    df_final_train['katz_s'] = df_final_train.source_node.apply(lambda x: katz.get(x,mean_katz))\n",
        "    df_final_train['katz_d'] = df_final_train.destination_node.apply(lambda x: katz.get(x,mean_katz))\n",
        "\n",
        "    df_final_test['katz_s'] = df_final_test.source_node.apply(lambda x: katz.get(x,mean_katz))\n",
        "    df_final_test['katz_d'] = df_final_test.destination_node.apply(lambda x: katz.get(x,mean_katz))\n",
        "    #================================================================================\n",
        "\n",
        "    #Hits algorithm score for source and destination in Train and test\n",
        "    #if anything not there in train graph then adding 0\n",
        "    df_final_train['hubs_s'] = df_final_train.source_node.apply(lambda x: hits[0].get(x,0))\n",
        "    df_final_train['hubs_d'] = df_final_train.destination_node.apply(lambda x: hits[0].get(x,0))\n",
        "\n",
        "    df_final_test['hubs_s'] = df_final_test.source_node.apply(lambda x: hits[0].get(x,0))\n",
        "    df_final_test['hubs_d'] = df_final_test.destination_node.apply(lambda x: hits[0].get(x,0))\n",
        "    #================================================================================\n",
        "\n",
        "    #Hits algorithm score for source and destination in Train and Test\n",
        "    #if anything not there in train graph then adding 0\n",
        "    df_final_train['authorities_s'] = df_final_train.source_node.apply(lambda x: hits[1].get(x,0))\n",
        "    df_final_train['authorities_d'] = df_final_train.destination_node.apply(lambda x: hits[1].get(x,0))\n",
        "\n",
        "    df_final_test['authorities_s'] = df_final_test.source_node.apply(lambda x: hits[1].get(x,0))\n",
        "    df_final_test['authorities_d'] = df_final_test.destination_node.apply(lambda x: hits[1].get(x,0))\n",
        "    #================================================================================\n",
        "\n",
        "    hdf = HDFStore('data/fea_sample/storage_sample_stage3.h5')\n",
        "    hdf.put('train_df',df_final_train, format='table', data_columns=True)\n",
        "    hdf.put('test_df',df_final_test, format='table', data_columns=True)\n",
        "    hdf.close()\n",
        "else:\n",
        "    df_final_train = read_hdf('data/fea_sample/storage_sample_stage3.h5', 'train_df',mode='r')\n",
        "    df_final_test = read_hdf('data/fea_sample/storage_sample_stage3.h5', 'test_df',mode='r')\n",
        "if not os.path.isfile('data/fea_sample/storage_sample_stage4.h5'):\n",
        "    #===================================================================================================\n",
        "    \n",
        "    df_final_train[['svd_u_s_1', 'svd_u_s_2','svd_u_s_3', 'svd_u_s_4', 'svd_u_s_5', 'svd_u_s_6']] = \\\n",
        "    df_final_train.source_node.apply(lambda x: svd(x, U)).apply(pd.Series)\n",
        "    \n",
        "    df_final_train[['svd_u_d_1', 'svd_u_d_2', 'svd_u_d_3', 'svd_u_d_4', 'svd_u_d_5','svd_u_d_6']] = \\\n",
        "    df_final_train.destination_node.apply(lambda x: svd(x, U)).apply(pd.Series)\n",
        "    #===================================================================================================\n",
        "    \n",
        "    df_final_train[['svd_v_s_1','svd_v_s_2', 'svd_v_s_3', 'svd_v_s_4', 'svd_v_s_5', 'svd_v_s_6',]] = \\\n",
        "    df_final_train.source_node.apply(lambda x: svd(x, V.T)).apply(pd.Series)\n",
        "\n",
        "    df_final_train[['svd_v_d_1', 'svd_v_d_2', 'svd_v_d_3', 'svd_v_d_4', 'svd_v_d_5','svd_v_d_6']] = \\\n",
        "    df_final_train.destination_node.apply(lambda x: svd(x, V.T)).apply(pd.Series)\n",
        "    #===================================================================================================\n",
        "    \n",
        "    df_final_test[['svd_u_s_1', 'svd_u_s_2','svd_u_s_3', 'svd_u_s_4', 'svd_u_s_5', 'svd_u_s_6']] = \\\n",
        "    df_final_test.source_node.apply(lambda x: svd(x, U)).apply(pd.Series)\n",
        "    \n",
        "    df_final_test[['svd_u_d_1', 'svd_u_d_2', 'svd_u_d_3', 'svd_u_d_4', 'svd_u_d_5','svd_u_d_6']] = \\\n",
        "    df_final_test.destination_node.apply(lambda x: svd(x, U)).apply(pd.Series)\n",
        "\n",
        "    #===================================================================================================\n",
        "    \n",
        "    df_final_test[['svd_v_s_1','svd_v_s_2', 'svd_v_s_3', 'svd_v_s_4', 'svd_v_s_5', 'svd_v_s_6',]] = \\\n",
        "    df_final_test.source_node.apply(lambda x: svd(x, V.T)).apply(pd.Series)\n",
        "\n",
        "    df_final_test[['svd_v_d_1', 'svd_v_d_2', 'svd_v_d_3', 'svd_v_d_4', 'svd_v_d_5','svd_v_d_6']] = \\\n",
        "    df_final_test.destination_node.apply(lambda x: svd(x, V.T)).apply(pd.Series)\n",
        "    #===================================================================================================\n",
        "\n",
        "    hdf = HDFStore('data/fea_sample/storage_sample_stage4.h5')\n",
        "    hdf.put('train_df',df_final_train, format='table', data_columns=True)\n",
        "    hdf.put('test_df',df_final_test, format='table', data_columns=True)\n",
        "    hdf.close()"
      ],
      "execution_count": null,
      "outputs": []
    },
    {
      "cell_type": "markdown",
      "metadata": {
        "id": "sBngP4XHdSV4"
      },
      "source": [
        "#Model Building-"
      ]
    },
    {
      "cell_type": "code",
      "metadata": {
        "id": "fxkNRnrodQtC"
      },
      "source": [
        "#Importing Libraries\n",
        "# please do go through this python notebook: \n",
        "import warnings\n",
        "warnings.filterwarnings(\"ignore\")\n",
        "\n",
        "import csv\n",
        "import pandas as pd#pandas to create small dataframes \n",
        "import datetime #Convert to unix time\n",
        "import time #Convert to unix time\n",
        "# if numpy is not installed already : pip3 install numpy\n",
        "import numpy as np#Do aritmetic operations on arrays\n",
        "# matplotlib: used to plot graphs\n",
        "import matplotlib\n",
        "import matplotlib.pylab as plt\n",
        "import seaborn as sns#Plots\n",
        "from matplotlib import rcParams#Size of plots  \n",
        "from sklearn.cluster import MiniBatchKMeans, KMeans#Clustering\n",
        "import math\n",
        "import pickle\n",
        "import os\n",
        "# to install xgboost: pip3 install xgboost\n",
        "import xgboost as xgb\n",
        "\n",
        "import warnings\n",
        "import networkx as nx\n",
        "import pdb\n",
        "import pickle\n",
        "from pandas import HDFStore,DataFrame\n",
        "from pandas import read_hdf\n",
        "from scipy.sparse.linalg import svds, eigs\n",
        "import gc\n",
        "from tqdm import tqdm\n",
        "from sklearn.ensemble import RandomForestClassifier\n",
        "from sklearn.metrics import f1_score"
      ],
      "execution_count": 72,
      "outputs": []
    },
    {
      "cell_type": "code",
      "metadata": {
        "id": "6Olf9_b7XTn7"
      },
      "source": [
        "#Now reading the stored final data-\n",
        "from pandas import read_hdf\n",
        "df_final_train = read_hdf('/content/drive/MyDrive/Copy of storage_sample_stage4.h5', 'train_df',mode='r')\n",
        "df_final_test = read_hdf('/content/drive/MyDrive/Copy of storage_sample_stage4.h5', 'test_df',mode='r')"
      ],
      "execution_count": 67,
      "outputs": []
    },
    {
      "cell_type": "code",
      "metadata": {
        "colab": {
          "base_uri": "https://localhost:8080/"
        },
        "id": "X9jrgHIQcr9W",
        "outputId": "02fd9d01-2a02-449a-ba0f-214a80312fa8"
      },
      "source": [
        "df_final_train.columns"
      ],
      "execution_count": 68,
      "outputs": [
        {
          "output_type": "execute_result",
          "data": {
            "text/plain": [
              "Index(['source_node', 'destination_node', 'indicator_link',\n",
              "       'jaccard_followers', 'jaccard_followees', 'cosine_followers',\n",
              "       'cosine_followees', 'num_followers_s', 'num_followees_s',\n",
              "       'num_followees_d', 'inter_followers', 'inter_followees', 'adar_index',\n",
              "       'follows_back', 'same_comp', 'shortest_path', 'weight_in', 'weight_out',\n",
              "       'weight_f1', 'weight_f2', 'weight_f3', 'weight_f4', 'page_rank_s',\n",
              "       'page_rank_d', 'katz_s', 'katz_d', 'hubs_s', 'hubs_d', 'authorities_s',\n",
              "       'authorities_d', 'svd_u_s_1', 'svd_u_s_2', 'svd_u_s_3', 'svd_u_s_4',\n",
              "       'svd_u_s_5', 'svd_u_s_6', 'svd_u_d_1', 'svd_u_d_2', 'svd_u_d_3',\n",
              "       'svd_u_d_4', 'svd_u_d_5', 'svd_u_d_6', 'svd_v_s_1', 'svd_v_s_2',\n",
              "       'svd_v_s_3', 'svd_v_s_4', 'svd_v_s_5', 'svd_v_s_6', 'svd_v_d_1',\n",
              "       'svd_v_d_2', 'svd_v_d_3', 'svd_v_d_4', 'svd_v_d_5', 'svd_v_d_6'],\n",
              "      dtype='object')"
            ]
          },
          "metadata": {},
          "execution_count": 68
        }
      ]
    },
    {
      "cell_type": "code",
      "metadata": {
        "id": "pqNlv-DSct6E"
      },
      "source": [
        "y_train = df_final_train.indicator_link\n",
        "y_test = df_final_test.indicator_link"
      ],
      "execution_count": 69,
      "outputs": []
    },
    {
      "cell_type": "code",
      "metadata": {
        "id": "3pZl9MoUcyat"
      },
      "source": [
        "df_final_train.drop(['source_node', 'destination_node','indicator_link'],axis=1,inplace=True)\n",
        "df_final_test.drop(['source_node', 'destination_node','indicator_link'],axis=1,inplace=True)"
      ],
      "execution_count": 70,
      "outputs": []
    },
    {
      "cell_type": "markdown",
      "metadata": {
        "id": "sAcn_8pjc31C"
      },
      "source": [
        "##Hyperparameter tunning-\n"
      ]
    },
    {
      "cell_type": "code",
      "metadata": {
        "colab": {
          "base_uri": "https://localhost:8080/",
          "height": 397
        },
        "id": "yYpOhOXMc6pE",
        "outputId": "71aa9439-bac5-46c9-faa8-ed99ae6fe7f3"
      },
      "source": [
        "#Choosing the best value for no of estimators-\n",
        "estimators = [10,50,100,250,450]\n",
        "train_scores = []\n",
        "test_scores = []\n",
        "for i in estimators:\n",
        "    clf = RandomForestClassifier(bootstrap=True, class_weight=None, criterion='gini',\n",
        "            max_depth=5, max_features='auto', max_leaf_nodes=None,\n",
        "            min_impurity_decrease=0.0, min_impurity_split=None,\n",
        "            min_samples_leaf=52, min_samples_split=120,\n",
        "            min_weight_fraction_leaf=0.0, n_estimators=i, n_jobs=-1,random_state=25,verbose=0,warm_start=False)\n",
        "    clf.fit(df_final_train,y_train)\n",
        "    train_sc = f1_score(y_train,clf.predict(df_final_train))\n",
        "    test_sc = f1_score(y_test,clf.predict(df_final_test))\n",
        "    test_scores.append(test_sc)\n",
        "    train_scores.append(train_sc)\n",
        "    print('Estimators = ',i,'Train Score',train_sc,'test Score',test_sc)\n",
        "plt.plot(estimators,train_scores,label='Train Score')\n",
        "plt.plot(estimators,test_scores,label='Test Score')\n",
        "plt.xlabel('Estimators')\n",
        "plt.ylabel('Score')\n",
        "plt.title('Estimators vs score at depth of 5')"
      ],
      "execution_count": 73,
      "outputs": [
        {
          "output_type": "stream",
          "name": "stdout",
          "text": [
            "Estimators =  10 Train Score 0.9063252121775113 test Score 0.8745605278006858\n",
            "Estimators =  50 Train Score 0.9205725512208812 test Score 0.9125653355634538\n",
            "Estimators =  100 Train Score 0.9238690848446947 test Score 0.9141199714153599\n",
            "Estimators =  250 Train Score 0.9239789348046863 test Score 0.9188007232664732\n",
            "Estimators =  450 Train Score 0.9237190618658074 test Score 0.9161507685828595\n"
          ]
        },
        {
          "output_type": "execute_result",
          "data": {
            "text/plain": [
              "Text(0.5, 1.0, 'Estimators vs score at depth of 5')"
            ]
          },
          "metadata": {},
          "execution_count": 73
        },
        {
          "output_type": "display_data",
          "data": {
            "image/png": "[encoded data removed]",
            "text/plain": [
              "<Figure size 432x288 with 1 Axes>"
            ]
          },
          "metadata": {
            "needs_background": "light"
          }
        }
      ]
    },
    {
      "cell_type": "code",
      "metadata": {
        "colab": {
          "base_uri": "https://localhost:8080/",
          "height": 448
        },
        "id": "Ba8ZQDPedw2D",
        "outputId": "742548b8-ba67-4ab7-ff7c-a3da769d1f0b"
      },
      "source": [
        "#Choosing the right value of depth-\n",
        "depths = [3,9,11,15,20,35,50,70,130]\n",
        "train_scores = []\n",
        "test_scores = []\n",
        "for i in depths:\n",
        "    clf = RandomForestClassifier(bootstrap=True, class_weight=None, criterion='gini',\n",
        "            max_depth=i, max_features='auto', max_leaf_nodes=None,\n",
        "            min_impurity_decrease=0.0, min_impurity_split=None,\n",
        "            min_samples_leaf=52, min_samples_split=120,\n",
        "            min_weight_fraction_leaf=0.0, n_estimators=115, n_jobs=-1,random_state=25,verbose=0,warm_start=False)\n",
        "    clf.fit(df_final_train,y_train)\n",
        "    train_sc = f1_score(y_train,clf.predict(df_final_train))\n",
        "    test_sc = f1_score(y_test,clf.predict(df_final_test))\n",
        "    test_scores.append(test_sc)\n",
        "    train_scores.append(train_sc)\n",
        "    print('depth = ',i,'Train Score',train_sc,'test Score',test_sc)\n",
        "plt.plot(depths,train_scores,label='Train Score')\n",
        "plt.plot(depths,test_scores,label='Test Score')\n",
        "plt.xlabel('Depth')\n",
        "plt.ylabel('Score')\n",
        "plt.title('Depth vs score at depth of 5 at estimators = 115')\n",
        "plt.show()"
      ],
      "execution_count": 74,
      "outputs": [
        {
          "output_type": "stream",
          "name": "stdout",
          "text": [
            "depth =  3 Train Score 0.8916120853581238 test Score 0.8687934859875491\n",
            "depth =  9 Train Score 0.9572226298198419 test Score 0.9222953031452904\n",
            "depth =  11 Train Score 0.9623451340902863 test Score 0.9252318758281279\n",
            "depth =  15 Train Score 0.9634267621927706 test Score 0.9231288356496615\n",
            "depth =  20 Train Score 0.9631629153051491 test Score 0.9235051024711141\n",
            "depth =  35 Train Score 0.9634333127085721 test Score 0.9235601652753184\n",
            "depth =  50 Train Score 0.9634333127085721 test Score 0.9235601652753184\n",
            "depth =  70 Train Score 0.9634333127085721 test Score 0.9235601652753184\n",
            "depth =  130 Train Score 0.9634333127085721 test Score 0.9235601652753184\n"
          ]
        },
        {
          "output_type": "display_data",
          "data": {
            "image/png": "[encoded data removed]",
            "text/plain": [
              "<Figure size 432x288 with 1 Axes>"
            ]
          },
          "metadata": {
            "needs_background": "light"
          }
        }
      ]
    },
    {
      "cell_type": "code",
      "metadata": {
        "id": "ZV-fo9vrexK2"
      },
      "source": [
        "#Using random search for hyperparameter tunning-\n",
        "\n",
        "from sklearn.metrics import f1_score\n",
        "from sklearn.ensemble import RandomForestClassifier\n",
        "from sklearn.metrics import f1_score\n",
        "from sklearn.model_selection import RandomizedSearchCV\n",
        "from scipy.stats import randint as sp_randint\n",
        "from scipy.stats import uniform\n",
        "\n",
        "param_dist = {\"n_estimators\":sp_randint(105,125),\n",
        "              \"max_depth\": sp_randint(10,15),\n",
        "              \"min_samples_split\": sp_randint(110,190),\n",
        "              \"min_samples_leaf\": sp_randint(25,65)}\n",
        "\n",
        "clf = RandomForestClassifier(random_state=25,n_jobs=-1)\n",
        "\n",
        "rf_random = RandomizedSearchCV(clf, param_distributions=param_dist,\n",
        "                                   n_iter=5,cv=10,scoring='f1',random_state=25)\n",
        "\n",
        "rf_random.fit(df_final_train,y_train)\n"
      ],
      "execution_count": null,
      "outputs": []
    },
    {
      "cell_type": "code",
      "metadata": {
        "colab": {
          "base_uri": "https://localhost:8080/"
        },
        "id": "27foL4p2fDqJ",
        "outputId": "8b3dcd9f-84ef-4c6d-ca71-e2417d6eb388"
      },
      "source": [
        "print(rf_random.best_estimator_)"
      ],
      "execution_count": 76,
      "outputs": [
        {
          "output_type": "stream",
          "name": "stdout",
          "text": [
            "RandomForestClassifier(bootstrap=True, ccp_alpha=0.0, class_weight=None,\n",
            "                       criterion='gini', max_depth=14, max_features='auto',\n",
            "                       max_leaf_nodes=None, max_samples=None,\n",
            "                       min_impurity_decrease=0.0, min_impurity_split=None,\n",
            "                       min_samples_leaf=28, min_samples_split=111,\n",
            "                       min_weight_fraction_leaf=0.0, n_estimators=121,\n",
            "                       n_jobs=-1, oob_score=False, random_state=25, verbose=0,\n",
            "                       warm_start=False)\n"
          ]
        }
      ]
    },
    {
      "cell_type": "markdown",
      "metadata": {
        "id": "2df13n4SfKYj"
      },
      "source": [
        "##Using the best estimator value to build Random forest model-\n"
      ]
    },
    {
      "cell_type": "code",
      "metadata": {
        "id": "-KavGPhFfQAn"
      },
      "source": [
        "clf = RandomForestClassifier(bootstrap=True, class_weight=None, criterion='gini',\n",
        "            max_depth=14, max_features='auto', max_leaf_nodes=None,\n",
        "            min_impurity_decrease=0.0, min_impurity_split=None,\n",
        "            min_samples_leaf=28, min_samples_split=111,\n",
        "            min_weight_fraction_leaf=0.0, n_estimators=121, n_jobs=-1,\n",
        "            oob_score=False, random_state=25, verbose=0, warm_start=False)"
      ],
      "execution_count": 77,
      "outputs": []
    },
    {
      "cell_type": "code",
      "metadata": {
        "id": "feUOPCGofTul"
      },
      "source": [
        "clf.fit(df_final_train,y_train)\n",
        "y_train_pred = clf.predict(df_final_train)\n",
        "y_test_pred = clf.predict(df_final_test)"
      ],
      "execution_count": 78,
      "outputs": []
    },
    {
      "cell_type": "code",
      "metadata": {
        "colab": {
          "base_uri": "https://localhost:8080/"
        },
        "id": "22aDLCmWfWXt",
        "outputId": "9f2bd3ea-e1b8-4558-8dd2-ab4c96c07101"
      },
      "source": [
        "from sklearn.metrics import f1_score\n",
        "print('Train f1 score',f1_score(y_train,y_train_pred))\n",
        "print('Test f1 score',f1_score(y_test,y_test_pred))"
      ],
      "execution_count": 79,
      "outputs": [
        {
          "output_type": "stream",
          "name": "stdout",
          "text": [
            "Train f1 score 0.9652533106548414\n",
            "Test f1 score 0.9241678239279553\n"
          ]
        }
      ]
    },
    {
      "cell_type": "code",
      "metadata": {
        "id": "MWZ4SHovfcDM"
      },
      "source": [
        "from sklearn.metrics import confusion_matrix\n",
        "def plot_confusion_matrix(test_y, predict_y):\n",
        "    C = confusion_matrix(test_y, predict_y)\n",
        "    \n",
        "    A =(((C.T)/(C.sum(axis=1))).T)\n",
        "    \n",
        "    B =(C/C.sum(axis=0))\n",
        "    plt.figure(figsize=(20,4))\n",
        "    \n",
        "    labels = [0,1]\n",
        "    # representing A in heatmap format\n",
        "    cmap=sns.light_palette(\"blue\")\n",
        "    plt.subplot(1, 3, 1)\n",
        "    sns.heatmap(C, annot=True, cmap=cmap, fmt=\".3f\", xticklabels=labels, yticklabels=labels)\n",
        "    plt.xlabel('Predicted Class')\n",
        "    plt.ylabel('Original Class')\n",
        "    plt.title(\"Confusion matrix\")\n",
        "    \n",
        "    plt.subplot(1, 3, 2)\n",
        "    sns.heatmap(B, annot=True, cmap=cmap, fmt=\".3f\", xticklabels=labels, yticklabels=labels)\n",
        "    plt.xlabel('Predicted Class')\n",
        "    plt.ylabel('Original Class')\n",
        "    plt.title(\"Precision matrix\")\n",
        "    \n",
        "    plt.subplot(1, 3, 3)\n",
        "    # representing B in heatmap format\n",
        "    sns.heatmap(A, annot=True, cmap=cmap, fmt=\".3f\", xticklabels=labels, yticklabels=labels)\n",
        "    plt.xlabel('Predicted Class')\n",
        "    plt.ylabel('Original Class')\n",
        "    plt.title(\"Recall matrix\")\n",
        "    \n",
        "    plt.show()"
      ],
      "execution_count": 80,
      "outputs": []
    },
    {
      "cell_type": "code",
      "metadata": {
        "colab": {
          "base_uri": "https://localhost:8080/",
          "height": 545
        },
        "id": "VKLe7Jl9ff7q",
        "outputId": "55a97d05-cf28-4fe8-aef4-d967cf73c69c"
      },
      "source": [
        "print('Train confusion_matrix')\n",
        "plot_confusion_matrix(y_train,y_train_pred)\n",
        "print('Test confusion_matrix')\n",
        "plot_confusion_matrix(y_test,y_test_pred)"
      ],
      "execution_count": 81,
      "outputs": [
        {
          "output_type": "stream",
          "name": "stdout",
          "text": [
            "Train confusion_matrix\n"
          ]
        },
        {
          "output_type": "display_data",
          "data": {
            "image/png": "[encoded data removed]",
            "text/plain": [
              "<Figure size 1440x288 with 6 Axes>"
            ]
          },
          "metadata": {
            "needs_background": "light"
          }
        },
        {
          "output_type": "stream",
          "name": "stdout",
          "text": [
            "Test confusion_matrix\n"
          ]
        },
        {
          "output_type": "display_data",
          "data": {
            "image/png": "[encoded data removed]",
            "text/plain": [
              "<Figure size 1440x288 with 6 Axes>"
            ]
          },
          "metadata": {
            "needs_background": "light"
          }
        }
      ]
    },
    {
      "cell_type": "markdown",
      "metadata": {
        "id": "gmnfUasMfrC2"
      },
      "source": [
        "##Feature importance in determining friend recommendations-"
      ]
    },
    {
      "cell_type": "code",
      "metadata": {
        "colab": {
          "base_uri": "https://localhost:8080/",
          "height": 730
        },
        "id": "UISYMtAufvMi",
        "outputId": "444e7d25-b777-4739-c859-556089595be1"
      },
      "source": [
        "features = df_final_train.columns\n",
        "importances = clf.feature_importances_\n",
        "indices = (np.argsort(importances))[-25:]\n",
        "plt.figure(figsize=(10,12))\n",
        "plt.title('Feature Importances')\n",
        "plt.barh(range(len(indices)), importances[indices], color='r', align='center')\n",
        "plt.yticks(range(len(indices)), [features[i] for i in indices])\n",
        "plt.xlabel('Relative Importance')\n",
        "plt.show()"
      ],
      "execution_count": 82,
      "outputs": [
        {
          "output_type": "display_data",
          "data": {
            "image/png": "[encoded data removed]",
            "text/plain": [
              "<Figure size 720x864 with 1 Axes>"
            ]
          },
          "metadata": {
            "needs_background": "light"
          }
        }
      ]
    }
  ]
}